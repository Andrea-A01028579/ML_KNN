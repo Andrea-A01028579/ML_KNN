{
  "cells": [
    {
      "cell_type": "markdown",
      "metadata": {
        "id": "pm6DlVfRoIJk"
      },
      "source": [
        "# Implementation of a K nearest neighbors algorithm\n",
        "\n",
        "K nearest neighbors is a supervised learning algorithm that in low dimensional data can be easily visualized. This method is useful for classification models and regression models. In this case it will be implemented for a classification model, and as its paremeters the user needs to establish how many groups it wants the model to predict.\n",
        "\n"
      ]
    },
    {
      "cell_type": "markdown",
      "metadata": {
        "id": "eTY76UCz2Z4A"
      },
      "source": [
        "# KNN implementation"
      ]
    },
    {
      "cell_type": "markdown",
      "metadata": {
        "id": "I2yfUdnj18Xe"
      },
      "source": [
        "## Libraries"
      ]
    },
    {
      "cell_type": "code",
      "execution_count": 1,
      "metadata": {
        "id": "Hmzq_qpGvrh0"
      },
      "outputs": [],
      "source": [
        "import pandas as pd\n",
        "import numpy as np"
      ]
    },
    {
      "cell_type": "markdown",
      "metadata": {
        "id": "tsjMV5H82PFL"
      },
      "source": [
        "## External methods"
      ]
    },
    {
      "cell_type": "code",
      "execution_count": 2,
      "metadata": {
        "id": "oFLtJk_Wazl4"
      },
      "outputs": [],
      "source": [
        "#Other methods that don't need to belong to the class\n",
        "\n",
        "def euclidean_distance(x1,x2): #for euclidean distance\n",
        "  return np.sqrt(np.sum((x1-x2)**2))\n",
        "\n",
        "def manhattan_distance(x1,x2): #for manhattan distance\n",
        "  return np.sum(np.abs(x1-x2))\n",
        "\n",
        "def mahalanobis_distance(x1,x2,cov_inv): #mahalanobis distance\n",
        "  #cov_inv = np.linalg.inv(np.cov(X_train, rowvar=False)) passed directly from fit so its not calculated each time\n",
        "  return np.sqrt(np.dot(np.dot((x1-x2), cov_inv), (x1-x2)))\n",
        "\n",
        "def cosine_similarity(x1,x2):\n",
        "  return np.dot(x1,x2)/(np.linalg.norm(x1)*np.linalg.norm(x2))\n",
        "\n",
        "def most_common(values): #for classification target\n",
        "  counts={}\n",
        "  for item in values:\n",
        "    counts[item]=counts.get(item, 0)+1\n",
        "  sorted_counts=sorted(counts.items(),key=lambda x: x[1], reverse=True)\n",
        "  return sorted_counts[0][0]\n",
        "\n",
        "def calculate_distance(x1,x2,metric,cov_inv):\n",
        "  if metric=='euclidean':\n",
        "    return euclidean_distance(x1,x2)\n",
        "  if metric=='manhattan':\n",
        "    return manhattan_distance(x1,x2)\n",
        "  if metric=='mahalanobis':\n",
        "    return mahalanobis_distance(x1,x2,cov_inv)\n",
        "  if metric=='cosine similarity':\n",
        "    return cosine_similarity(x1,x2)\n",
        "  if callable(metric):\n",
        "    try:\n",
        "      return metric(x1, x2)\n",
        "    except ValueError as e:\n",
        "      print('Error in callable function: ',e)\n",
        "\n",
        "\n",
        "def find_target(nearest_y_value,target):\n",
        "  if target=='classification':\n",
        "    return most_common(nearest_y_value)\n",
        "  if target=='regression':\n",
        "    return np.mean(nearest_y_value)\n",
        "\n",
        "def class_accuracy(y_pred, y_test):\n",
        "    error=0\n",
        "    for i in range(len(y_pred)):\n",
        "      if y_pred[i]!=y_test[i]:\n",
        "        error=error+1\n",
        "    return (len(y_pred)-error)/len(y_pred)*100\n",
        "\n",
        "def reg_accuracy(y_pred, y_test, dev):\n",
        "  error=0\n",
        "  for i in range(len(y_pred)):\n",
        "    if abs(y_pred[i]-y_test[i])>dev:\n",
        "      error=error+1\n",
        "  return (len(y_pred)-error)/len(y_pred)*100\n",
        "\n",
        "def mean_squared_error(y_pred, y_test):\n",
        "  squared_errors = (y_test - y_pred) ** 2\n",
        "  mse = np.mean(squared_errors)\n",
        "  return mse\n"
      ]
    },
    {
      "cell_type": "markdown",
      "metadata": {
        "id": "Qo6S_meB2XjR"
      },
      "source": [
        "## Class definition"
      ]
    },
    {
      "cell_type": "code",
      "execution_count": 24,
      "metadata": {
        "id": "e2aYjT9LZS7q"
      },
      "outputs": [],
      "source": [
        "class KNN:\n",
        "\n",
        "  def __init__(self, k=5, metric='euclidean',target='classification', dev=None):\n",
        "    #Parameter fail safes\n",
        "    if not isinstance(k, int) or k <0:\n",
        "      raise ValueError('k must be a non-negative integer')\n",
        "    possible_metrics={'euclidean', 'manhattan','mahalanobis', 'cosine similarity'}\n",
        "    if not (isinstance(metric, str) and metric in {'euclidean', 'manhattan', 'mahalanobis', 'cosine similarity'} or callable(metric)):\n",
        "      raise ValueError('Invalid metric. Allowed metrics are \\'euclidean\\' , \\'manhattan\\',\\'mahalanobis\\'or \\'cosine similarity\\'; or a callable function')\n",
        "    possible_targets={'classification', 'regression'}\n",
        "    if target not in possible_targets:\n",
        "      raise ValueError('Invalid target. Allowed metrics are \\'classification\\' or \\'regression\\'')\n",
        "    if (not isinstance(dev, int) or dev <0) and (dev is not None):\n",
        "      raise ValueError('Standard deviation must be a non-negative integer')\n",
        "\n",
        "\n",
        "\n",
        "    self.k=k #parameter amount of neighbors\n",
        "    self.metric=metric #parameter type of metric\n",
        "    self.target=target #parameter target (classification or regression)\n",
        "    try: #parameter deviation for accepted deviation in regression models, if it isnt regression this parameter doesnt exist\n",
        "      if target=='classification' and dev!=0 and (dev is not None):\n",
        "        self.dev=None\n",
        "        raise ValueError(\"Deviation won't be used in classification models, parameter ignored\")\n",
        "      else:\n",
        "        self.dev=dev\n",
        "    except ValueError as e:\n",
        "      print(e)\n",
        "    self.cov_inv=0\n",
        "\n",
        "  def fit(self, X, y): #fit in KNN stores the data to compare the given point\n",
        "    self.X_train=X\n",
        "    self.y_train=y\n",
        "    if self.metric=='mahalanobis':\n",
        "      self.cov_inv=np.linalg.inv(np.cov(X, rowvar=False))\n",
        "    #check that k<than amount of data points\n",
        "    if self.k>len(X):\n",
        "      raise ValueError(\"k is bigger than the amount of data points, recreate KNN with a different k, or add more data\")\n",
        "\n",
        "\n",
        "\n",
        "  def predict(self, X): # calls make prediction method for each point of X\n",
        "    y_pred=[self.make_prediction(x) for x in X]\n",
        "    return np.array(y_pred)\n",
        "\n",
        "\n",
        "  def make_prediction(self, x):\n",
        "    #calculates the distance depending on the metric chosen\n",
        "    distances=[calculate_distance(x, x_train, self.metric, self.cov_inv) for x_train in self.X_train]\n",
        "    #sort distance, returns indexes of the closest k\n",
        "    nearest_index=np.argsort(distances)[:self.k]\n",
        "    #supervised learning compares with true value, get value of closest\n",
        "    nearest_y_value=[self.y_train[i] for i in nearest_index]\n",
        "    if self.target=='regression' and self.dev==None:\n",
        "      self.dev=np.std(nearest_y_value)\n",
        "    #get y value depending on the target\n",
        "    return find_target(nearest_y_value, self.target)\n",
        "\n",
        "  def evaluate(self, y_pred, y_test, eval='accuracy', custom_dev=None):\n",
        "    if self.target == 'classification':\n",
        "      try:\n",
        "        if eval != 'accuracy':\n",
        "            raise ValueError(\"eval parameter is ignored in classification models, evaluation method is accuracy\")\n",
        "      except ValueError as e:\n",
        "        print(e)\n",
        "      try:\n",
        "        if custom_dev is not None:\n",
        "          raise ValueError(\"Deviation won't be used in classification models, parameter ignored\")\n",
        "      except ValueError as e:\n",
        "        print(e)\n",
        "      return class_accuracy(y_pred, y_test)\n",
        "    elif self.target == 'regression':\n",
        "        if eval == 'accuracy':\n",
        "            if custom_dev is not None:\n",
        "              if (not isinstance(custom_dev, int) or custom_dev <0) and (custom_dev is not None):\n",
        "                raise ValueError('Standard deviation must be a non-negative integer')\n",
        "              elif custom_dev >= (max(y_test) - min(y_test)):\n",
        "                raise ValueError(\"Deviation higher than y range, guaranteed 100% accuracy, no significance in results\")\n",
        "              self.dev=custom_dev\n",
        "            elif self.dev is None:\n",
        "                raise ValueError(\"For regression evaluation with 'accuracy', you must specify a non-negative deviation (dev).\")\n",
        "            elif self.dev >= (max(y_test) - min(y_test)):\n",
        "                raise ValueError(\"Deviation higher than y range, guaranteed 100% accuracy, no significance in results\")\n",
        "            else:\n",
        "              self.dev = self.dev\n",
        "            return reg_accuracy(y_pred, y_test, self.dev)\n",
        "        elif eval == 'score':\n",
        "            return mean_squared_error(y_pred, y_test)\n",
        "        else:\n",
        "            raise ValueError(\"Invalid eval. Allowed evaluation methods are: 'accuracy' or 'score'\")\n",
        "    else:\n",
        "        raise ValueError(\"Invalid target. Allowed targets are 'classification' or 'regression'\")\n",
        "\n",
        "\n",
        "\n",
        "  def cross_validation(self, X, y, folds=5, eval='accuracy'): #cross validation for how well the model does splitting the data in different ways\n",
        "    shuffle_index=np.random.permutation(len(X))\n",
        "    fold_size=len(X)//folds\n",
        "    fold_index=[shuffle_index[i:i+fold_size] for i in range(0, len(X), fold_size)]\n",
        "    metrics=[]\n",
        "    for i in range(folds):\n",
        "      test_indices = fold_index[i]\n",
        "      train_indices = np.concatenate([fold_index[j] for j in range(folds) if j != i])\n",
        "      X_train = X[train_indices]\n",
        "      y_train = y[train_indices]\n",
        "      X_test = X[test_indices]\n",
        "      y_test = y[test_indices]\n",
        "      self.fit(X_train, y_train)\n",
        "      y_pred = self.predict(X_test)\n",
        "      metrics.append(self.evaluate(y_pred, y_test, eval))\n",
        "    return np.mean(metrics)\n",
        "\n"
      ]
    },
    {
      "cell_type": "markdown",
      "metadata": {
        "id": "3uauxCzS2gWc"
      },
      "source": [
        "# Datasets for trail runs"
      ]
    },
    {
      "cell_type": "markdown",
      "metadata": {
        "id": "ZnC1j_n61gPS"
      },
      "source": [
        "## Iris data set\n",
        "classification toy set"
      ]
    },
    {
      "cell_type": "code",
      "execution_count": 4,
      "metadata": {
        "id": "hdDeWdeiYv7y"
      },
      "outputs": [],
      "source": [
        "#run this chunk to try with iris sample dataset\n",
        "from sklearn import datasets\n",
        "iris = datasets.load_iris()\n",
        "X_c = iris.data # we only take the first two features.\n",
        "y_c = iris.target"
      ]
    },
    {
      "cell_type": "code",
      "execution_count": 5,
      "metadata": {
        "id": "Whl2wLfUZ5tc"
      },
      "outputs": [],
      "source": [
        "train_ratio = 0.75\n",
        "\n",
        "# Calculate the number of samples for the training set\n",
        "num_samples = len(X_c)\n",
        "num_train_samples = int(train_ratio * num_samples)\n",
        "\n",
        "# Create random indices for splitting\n",
        "indices = np.arange(num_samples)\n",
        "np.random.shuffle(indices)\n",
        "\n",
        "# Split the data and labels into training and testing sets\n",
        "X_train_c = X_c[indices[:num_train_samples]]\n",
        "y_train_c = y_c[indices[:num_train_samples]]\n",
        "X_test_c = X_c[indices[num_train_samples:]]\n",
        "y_test_c = y_c[indices[num_train_samples:]]"
      ]
    },
    {
      "cell_type": "markdown",
      "source": [
        "## Diabetes data set\n",
        "regression toy set"
      ],
      "metadata": {
        "id": "VHGBeeTBaa0a"
      }
    },
    {
      "cell_type": "code",
      "source": [
        "from sklearn import datasets\n",
        "diabetes = datasets.load_diabetes()\n",
        "X_r = diabetes.data # we only take the first two features.\n",
        "y_r = diabetes.target"
      ],
      "metadata": {
        "id": "29p27-17aaL9"
      },
      "execution_count": 6,
      "outputs": []
    },
    {
      "cell_type": "code",
      "source": [
        "train_ratio = 0.75\n",
        "\n",
        "# Calculate the number of samples for the training set\n",
        "num_samples = len(X_r)\n",
        "num_train_samples = int(train_ratio * num_samples)\n",
        "\n",
        "# Create random indices for splitting\n",
        "indices = np.arange(num_samples)\n",
        "np.random.shuffle(indices)\n",
        "\n",
        "# Split the data and labels into training and testing sets\n",
        "X_train_r = X_r[indices[:num_train_samples]]\n",
        "y_train_r = y_r[indices[:num_train_samples]]\n",
        "X_test_r = X_r[indices[num_train_samples:]]\n",
        "y_test_r = y_r[indices[num_train_samples:]]"
      ],
      "metadata": {
        "id": "m4XbMqG2ahe0"
      },
      "execution_count": 7,
      "outputs": []
    },
    {
      "cell_type": "markdown",
      "metadata": {
        "id": "nY-JJ0cOklQJ"
      },
      "source": [
        "# Trail runs"
      ]
    },
    {
      "cell_type": "markdown",
      "metadata": {
        "id": "Ogio7ZIuvJo7"
      },
      "source": [
        "Different distances between the first two instances of iris data set"
      ]
    },
    {
      "cell_type": "code",
      "execution_count": 14,
      "metadata": {
        "colab": {
          "base_uri": "https://localhost:8080/"
        },
        "id": "fKZ-vUuqkhEJ",
        "outputId": "fff33fba-2e6f-4161-bb55-8dbc2068adb2"
      },
      "outputs": [
        {
          "output_type": "stream",
          "name": "stdout",
          "text": [
            "0.8602325267042629\n",
            "1.4000000000000001\n",
            "1.97804360077469\n",
            "0.9977075515390801\n"
          ]
        }
      ],
      "source": [
        "print(euclidean_distance(X_train_c[0],X_train_c[1]))\n",
        "print(manhattan_distance(X_train_c[0],X_train_c[1]))\n",
        "cov_inv=np.linalg.inv(np.cov(X_train_c, rowvar=False))\n",
        "print(mahalanobis_distance(X_train_c[0],X_train_c[1],cov_inv))\n",
        "print(cosine_similarity(X_train_c[0],X_train_c[1]))"
      ]
    },
    {
      "cell_type": "markdown",
      "metadata": {
        "id": "o4ZZqO9D20c9"
      },
      "source": [
        "Variations in k for classifiction"
      ]
    },
    {
      "cell_type": "code",
      "execution_count": 15,
      "metadata": {
        "colab": {
          "base_uri": "https://localhost:8080/"
        },
        "id": "wVdbH9W8cajc",
        "outputId": "57eaa994-87e4-41ae-bf48-2ad5abadfb48"
      },
      "outputs": [
        {
          "output_type": "stream",
          "name": "stdout",
          "text": [
            "92.10526315789474\n",
            "94.73684210526315\n",
            "94.73684210526315\n",
            "Exception caught: k is bigger than the amount of data points, recreate KNN with a different k, or add more data\n"
          ]
        }
      ],
      "source": [
        "knn3=KNN(k=3)\n",
        "knn3.fit(X_train_c, y_train_c)\n",
        "y_pred=knn3.predict(X_test_c)\n",
        "print(knn3.evaluate(y_pred,y_test_c))\n",
        "\n",
        "knn5=KNN(k=5)\n",
        "knn5.fit(X_train_c, y_train_c)\n",
        "y_pred=knn5.predict(X_test_c)\n",
        "print(knn5.evaluate(y_pred,y_test_c))\n",
        "\n",
        "knn10=KNN(k=10)\n",
        "knn10.fit(X_train_c, y_train_c)\n",
        "y_pred=knn10.predict(X_test_c)\n",
        "print(knn10.evaluate(y_pred,y_test_c))\n",
        "\n",
        "try:\n",
        "  knn_not_k=KNN(k=(len(X_train_c)+1)) # giving a wrong value for the parameter\n",
        "  knn_not_k.fit(X_train_c, y_train_c)\n",
        "except ValueError as e:\n",
        "  print(f\"Exception caught: {e}\")"
      ]
    },
    {
      "cell_type": "markdown",
      "metadata": {
        "id": "fV_0hreJzAZZ"
      },
      "source": [
        "Comparing different metrics for iris dataset (classification)"
      ]
    },
    {
      "cell_type": "code",
      "execution_count": 16,
      "metadata": {
        "colab": {
          "base_uri": "https://localhost:8080/"
        },
        "id": "4T6X4-s50cem",
        "outputId": "41686a8b-aa94-4db7-9653-f283da8908ab"
      },
      "outputs": [
        {
          "output_type": "stream",
          "name": "stdout",
          "text": [
            "94.73684210526315\n",
            "92.10526315789474\n",
            "86.8421052631579\n",
            "0.0\n",
            "94.73684210526315\n",
            "Exception caught: Invalid metric. Allowed metrics are 'euclidean' , 'manhattan','mahalanobis'or 'cosine similarity'; or a callable function\n"
          ]
        }
      ],
      "source": [
        "knn1=KNN(k=5,metric='euclidean') #euclidean distance\n",
        "knn1.fit(X_train_c, y_train_c)\n",
        "y_pred=knn1.predict(X_test_c)\n",
        "print(knn1.evaluate(y_pred,y_test_c))\n",
        "\n",
        "knn2=KNN(k=5,metric='manhattan') #manhattan distance\n",
        "knn2.fit(X_train_c, y_train_c)\n",
        "y_pred=knn2.predict(X_test_c)\n",
        "print(knn2.evaluate(y_pred,y_test_c))\n",
        "\n",
        "knn3=KNN(k=5,metric='mahalanobis') #mahalanobis distance\n",
        "knn3.fit(X_train_c, y_train_c)\n",
        "y_pred=knn3.predict(X_test_c)\n",
        "print(knn3.evaluate(y_pred,y_test_c))\n",
        "\n",
        "knn4=KNN(k=5,metric='cosine similarity') #cosine similarity distance\n",
        "knn4.fit(X_train_c, y_train_c)\n",
        "y_pred=knn4.predict(X_test_c)\n",
        "print(knn4.evaluate(y_pred,y_test_c))\n",
        "\n",
        "knn4=KNN(k=5,metric=euclidean_distance) #euclidean distance passing the external function directly as a callable function\n",
        "knn4.fit(X_train_c, y_train_c)\n",
        "y_pred=knn4.predict(X_test_c)\n",
        "print(knn4.evaluate(y_pred,y_test_c))\n",
        "\n",
        "try:\n",
        "  knn_not_metric=KNN(metric='not metric') # giving a wrong value for the parameter\n",
        "except ValueError as e:\n",
        "  print(f\"Exception caught: {e}\")"
      ]
    },
    {
      "cell_type": "markdown",
      "source": [
        "Trying different evaluation methods for classification"
      ],
      "metadata": {
        "id": "OhpK9a0RmyN3"
      }
    },
    {
      "cell_type": "code",
      "source": [
        "knn2=KNN()\n",
        "knn2.fit(X_train_c, y_train_c)\n",
        "y_pred=knn2.predict(X_test_c)\n",
        "print(knn2.evaluate(y_pred,y_test_c, eval='accuracy'))\n",
        "\n",
        "knn4=KNN()\n",
        "knn4.fit(X_train_c, y_train_c)\n",
        "y_pred=knn4.predict(X_test_c)\n",
        "print(knn4.evaluate(y_pred,y_test_c, eval='score'))\n",
        "\n",
        "knn6=KNN()\n",
        "knn6.fit(X_train_c, y_train_c)\n",
        "y_pred=knn6.predict(X_test_c)\n",
        "print(knn6.evaluate(y_pred,y_test_c, custom_dev=1))\n"
      ],
      "metadata": {
        "colab": {
          "base_uri": "https://localhost:8080/"
        },
        "id": "OUyggJyCmxg1",
        "outputId": "2db9626a-1fd9-4f6a-e824-024de9ace464"
      },
      "execution_count": 26,
      "outputs": [
        {
          "output_type": "stream",
          "name": "stdout",
          "text": [
            "94.73684210526315\n",
            "eval parameter is ignored in classification models, evaluation method is accuracy\n",
            "94.73684210526315\n",
            "Deviation won't be used in classification models, parameter ignored\n",
            "94.73684210526315\n"
          ]
        }
      ]
    },
    {
      "cell_type": "markdown",
      "source": [
        "Performing cross validation for the best parameters found"
      ],
      "metadata": {
        "id": "gM9_NhNosdFp"
      }
    },
    {
      "cell_type": "code",
      "source": [
        "knn_cv=KNN(k=10, metric='euclidean')\n",
        "knn_cv.cross_validation(X_c, y_c)"
      ],
      "metadata": {
        "colab": {
          "base_uri": "https://localhost:8080/"
        },
        "id": "GpIaisvkshiZ",
        "outputId": "ebfba8e2-aae2-4499-9d67-33f68b7d295d"
      },
      "execution_count": 27,
      "outputs": [
        {
          "output_type": "execute_result",
          "data": {
            "text/plain": [
              "96.0"
            ]
          },
          "metadata": {},
          "execution_count": 27
        }
      ]
    },
    {
      "cell_type": "markdown",
      "metadata": {
        "id": "tYEzFj2m3HH5"
      },
      "source": [
        "Variations in k for regression (long computation type due to brute force search type)"
      ]
    },
    {
      "cell_type": "code",
      "execution_count": 28,
      "metadata": {
        "colab": {
          "base_uri": "https://localhost:8080/"
        },
        "id": "FHDqJ0aOlVMF",
        "outputId": "90c7a82f-d4fa-4a20-fa91-c21d0ca27abd"
      },
      "outputs": [
        {
          "output_type": "stream",
          "name": "stdout",
          "text": [
            "72.97297297297297\n",
            "65.76576576576578\n",
            "66.66666666666666\n",
            "Exception caught: k is bigger than the amount of data points, recreate KNN with a different k, or add more data\n"
          ]
        }
      ],
      "source": [
        "knn3=KNN(k=5,target='regression')\n",
        "knn3.fit(X_train_r, y_train_r)\n",
        "y_pred=knn3.predict(X_test_r)\n",
        "print(knn3.evaluate(y_pred,y_test_r))\n",
        "\n",
        "knn5=KNN(k=10,target='regression')\n",
        "knn5.fit(X_train_r, y_train_r)\n",
        "y_pred=knn5.predict(X_test_r)\n",
        "print(knn5.evaluate(y_pred,y_test_r))\n",
        "\n",
        "knn10=KNN(k=20,target='regression')\n",
        "knn10.fit(X_train_r, y_train_r)\n",
        "y_pred=knn10.predict(X_test_r)\n",
        "print(knn10.evaluate(y_pred,y_test_r))\n",
        "\n",
        "try:\n",
        "  knn_not_k=KNN(k=(len(X_train_r)+1), target='regression') # giving a wrong value for the parameter\n",
        "  knn_not_k.fit(X_train_c, y_train_c)\n",
        "except ValueError as e:\n",
        "  print(f\"Exception caught: {e}\")"
      ]
    },
    {
      "cell_type": "markdown",
      "metadata": {
        "id": "wbR6m5iD3h56"
      },
      "source": [
        "Comparing different metrics for regression, using best k found."
      ]
    },
    {
      "cell_type": "code",
      "execution_count": 29,
      "metadata": {
        "id": "klOEBZwPy-28",
        "colab": {
          "base_uri": "https://localhost:8080/"
        },
        "outputId": "40f495cd-65c7-4b19-cbb6-a75a5c9d99e2"
      },
      "outputs": [
        {
          "output_type": "stream",
          "name": "stdout",
          "text": [
            "66.66666666666666\n",
            "66.66666666666666\n",
            "62.16216216216216\n",
            "27.027027027027028\n"
          ]
        }
      ],
      "source": [
        "knn1=KNN(k=20,metric='euclidean',target='regression')\n",
        "knn1.fit(X_train_r, y_train_r)\n",
        "y_pred=knn1.predict(X_test_r)\n",
        "print(knn1.evaluate(y_pred,y_test_r))\n",
        "\n",
        "knn2=KNN(k=20,metric='manhattan',target='regression')\n",
        "knn2.fit(X_train_r, y_train_r)\n",
        "y_pred=knn2.predict(X_test_r)\n",
        "print(knn2.evaluate(y_pred,y_test_r))\n",
        "\n",
        "knn3=KNN(k=20,metric='mahalanobis',target='regression')\n",
        "knn3.fit(X_train_r, y_train_r)\n",
        "y_pred=knn3.predict(X_test_r)\n",
        "print(knn3.evaluate(y_pred,y_test_r))\n",
        "\n",
        "knn4=KNN(k=20,metric='cosine similarity',target='regression')\n",
        "knn4.fit(X_train_r, y_train_r)\n",
        "y_pred=knn4.predict(X_test_r)\n",
        "print(knn4.evaluate(y_pred,y_test_r))"
      ]
    },
    {
      "cell_type": "markdown",
      "source": [
        "Comparing different dev for regression, using best k and best metric found."
      ],
      "metadata": {
        "id": "uAvZ_s44bDd_"
      }
    },
    {
      "cell_type": "code",
      "source": [
        "knn1=KNN(k=20,metric='manhattan',target='regression', dev=None) #std of k nearest\n",
        "knn1.fit(X_train_r, y_train_r)\n",
        "y_pred=knn1.predict(X_test_r)\n",
        "print(knn1.evaluate(y_pred,y_test_r))\n",
        "\n",
        "print('\\nImportant values:')\n",
        "print('Standard Deviation of k nearest in default:', knn1.dev)\n",
        "print('Range of possible y values: ',max(y_test_r)-min(y_test_r),'\\n')\n",
        "\n",
        "knn2=KNN(k=20,metric='manhattan',target='regression', dev=30) #10% of range\n",
        "knn2.fit(X_train_r, y_train_r)\n",
        "y_pred=knn2.predict(X_test_r)\n",
        "print(knn2.evaluate(y_pred,y_test_r))\n",
        "\n",
        "knn3=KNN(k=20,metric='manhattan',target='regression', dev=80) # More than the std dev\n",
        "knn3.fit(X_train_r, y_train_r)\n",
        "y_pred=knn3.predict(X_test_r)\n",
        "print(knn3.evaluate(y_pred,y_test_r))\n",
        "\n",
        "knn4=KNN(k=20,metric='manhattan',target='regression', dev=307) #Range, guaranteed 100%\n",
        "knn4.fit(X_train_r, y_train_r)\n",
        "y_pred=knn4.predict(X_test_r)\n",
        "try:\n",
        "  knn4.evaluate(y_pred,y_test_r)\n",
        "except ValueError as e:\n",
        "  print(f\"Exception caught: {e}\")"
      ],
      "metadata": {
        "colab": {
          "base_uri": "https://localhost:8080/"
        },
        "id": "6ESCt9oca8gC",
        "outputId": "4f82eee8-3a99-4cfe-cb14-27ccc580dfce"
      },
      "execution_count": 30,
      "outputs": [
        {
          "output_type": "stream",
          "name": "stdout",
          "text": [
            "66.66666666666666\n",
            "\n",
            "Important values:\n",
            "Standard Deviation of k nearest in default: 56.75497775525949\n",
            "Range of possible y values:  277.0 \n",
            "\n",
            "36.93693693693694\n",
            "85.58558558558559\n",
            "Exception caught: Deviation higher than y range, guaranteed 100% accuracy, no significance in results\n"
          ]
        }
      ]
    },
    {
      "cell_type": "markdown",
      "source": [
        "Evaluate same model for varios dev (set in the evaluate function)"
      ],
      "metadata": {
        "id": "MF-LZN1ND4bB"
      }
    },
    {
      "cell_type": "code",
      "source": [
        "knn1=KNN(k=20,metric='manhattan',target='regression') #std of k nearest\n",
        "knn1.fit(X_train_r, y_train_r)\n",
        "y_pred=knn1.predict(X_test_r)\n",
        "dev=[-1,0,20,30,100,500]\n",
        "for i in range(len(dev)):\n",
        "  try:\n",
        "    print(knn1.evaluate(y_pred,y_test_r, custom_dev=dev[i]))\n",
        "  except ValueError as e:\n",
        "    print(f\"Exception caught: {e}\")"
      ],
      "metadata": {
        "colab": {
          "base_uri": "https://localhost:8080/"
        },
        "id": "u17JNG2qDlnt",
        "outputId": "3bf375a5-9dae-4954-d3ce-f88e20c74160"
      },
      "execution_count": 35,
      "outputs": [
        {
          "output_type": "stream",
          "name": "stdout",
          "text": [
            "Exception caught: Standard deviation must be a non-negative integer\n",
            "0.9009009009009009\n",
            "27.027027027027028\n",
            "36.93693693693694\n",
            "93.69369369369369\n",
            "Exception caught: Deviation higher than y range, guaranteed 100% accuracy, no significance in results\n"
          ]
        }
      ]
    },
    {
      "cell_type": "markdown",
      "source": [
        "Comparing different evaluation methods for regression models"
      ],
      "metadata": {
        "id": "-BUOLCLqkeGY"
      }
    },
    {
      "cell_type": "code",
      "source": [
        "knn1=KNN(k=20,metric='manhattan',target='regression')\n",
        "knn1.fit(X_train_r, y_train_r)\n",
        "y_pred=knn1.predict(X_test_r)\n",
        "print(knn1.evaluate(y_pred,y_test_r, eval='accuracy'))\n",
        "\n",
        "knn2=KNN(k=20,metric='manhattan',target='regression')\n",
        "knn2.fit(X_train_r, y_train_r)\n",
        "y_pred=knn2.predict(X_test_r)\n",
        "print(knn2.evaluate(y_pred,y_test_r, eval='score'))\n",
        "\n",
        "knn4=KNN(k=20,metric='manhattan',target='regression')\n",
        "knn4.fit(X_train_r, y_train_r)\n",
        "y_pred=knn4.predict(X_test_r)\n",
        "try:\n",
        "  knn4.evaluate(y_pred,y_test_r, eval='not a method')\n",
        "except ValueError as e:\n",
        "  print(f\"Exception caught: {e}\")"
      ],
      "metadata": {
        "colab": {
          "base_uri": "https://localhost:8080/"
        },
        "id": "xMA7l7KvkkhJ",
        "outputId": "8eacb5fc-ed29-4098-e3ca-f68ea6593de1"
      },
      "execution_count": 36,
      "outputs": [
        {
          "output_type": "stream",
          "name": "stdout",
          "text": [
            "66.66666666666666\n",
            "3173.687837837838\n",
            "Exception caught: Invalid eval. Allowed evaluation methods are: 'accuracy' or 'score'\n"
          ]
        }
      ]
    },
    {
      "cell_type": "markdown",
      "source": [
        "Performing cross_validation for the parameters found"
      ],
      "metadata": {
        "id": "gokVB0ektOwy"
      }
    },
    {
      "cell_type": "code",
      "source": [
        "knn_cv_r=KNN(k=20, metric='manhattan', target='regression')\n",
        "knn_cv_r.cross_validation(X_r, y_r, folds=10)"
      ],
      "metadata": {
        "colab": {
          "base_uri": "https://localhost:8080/"
        },
        "id": "_k6eJb2FtR5I",
        "outputId": "2224dc0f-8a44-46d0-b7ef-ed4a24aa1e86"
      },
      "execution_count": 37,
      "outputs": [
        {
          "output_type": "execute_result",
          "data": {
            "text/plain": [
              "77.27272727272728"
            ]
          },
          "metadata": {},
          "execution_count": 37
        }
      ]
    },
    {
      "cell_type": "markdown",
      "metadata": {
        "id": "BTSRWUNoVoFX"
      },
      "source": [
        "# Apendix\n",
        "## Graphic visualization of KNN (no model)"
      ]
    },
    {
      "cell_type": "code",
      "execution_count": 34,
      "metadata": {
        "id": "GHSIvBrOYIes",
        "colab": {
          "base_uri": "https://localhost:8080/",
          "height": 564
        },
        "outputId": "2672e0fc-6b71-4a81-e4c4-1277e2387002"
      },
      "outputs": [
        {
          "output_type": "display_data",
          "data": {
            "text/plain": [
              "<Figure size 1000x600 with 1 Axes>"
            ],
            "image/png": "[encoded data removed]"
          },
          "metadata": {}
        }
      ],
      "source": [
        "import matplotlib.pyplot as plt\n",
        "\n",
        "# Set a random seed for reproducibility\n",
        "np.random.seed(42)\n",
        "\n",
        "# Number of data points\n",
        "num_points = 100\n",
        "\n",
        "# Generate random data points in 2D\n",
        "data_points = np.random.rand(num_points, 2) * 10  # Generating points in the range [0, 10)\n",
        "\n",
        "#classifing data points with y=x-1\n",
        "y = np.where(data_points[:, 1] > 1 * data_points[:, 0] -1, 1, 0)\n",
        "\n",
        "# Generate a random point\n",
        "random_point = np.random.rand(2) * 10  # Generating a random point in the same range [0, 10)\n",
        "\n",
        "# Calculate the Euclidean distances between the random point and all data points\n",
        "distances = np.linalg.norm(data_points - random_point, axis=1)\n",
        "\n",
        "# Find the indices of the 5 closest points\n",
        "closest_indices = np.argsort(distances)[:5]\n",
        "\n",
        "# Extract the coordinates of the 5 closest points\n",
        "closest_points = data_points[closest_indices]\n",
        "\n",
        "# Create a scatter plot of the data points with different markers and colors\n",
        "plt.figure(figsize=(10, 6))\n",
        "plt.scatter(data_points[y == 0, 0], data_points[y == 0, 1], c='blue', label='Class 0', marker='o')\n",
        "plt.scatter(data_points[y == 1, 0], data_points[y == 1, 1], c='red', label='Class 1', marker='o')\n",
        "plt.scatter(closest_points[:, 0], closest_points[:, 1],c='black', label='Closest Points', marker='x')\n",
        "plt.scatter(random_point[0], random_point[1], c='lime', label='Random Point', marker='D')\n",
        "\n",
        "# Add labels and a legend\n",
        "plt.xlabel('X')\n",
        "plt.ylabel('Y')\n",
        "plt.title('KNN graphical visualization')\n",
        "plt.legend(loc='upper right')\n",
        "\n",
        "# Show the plot\n",
        "plt.show()\n"
      ]
    }
  ],
  "metadata": {
    "colab": {
      "provenance": []
    },
    "kernelspec": {
      "display_name": "Python 3",
      "name": "python3"
    },
    "language_info": {
      "name": "python"
    }
  },
  "nbformat": 4,
  "nbformat_minor": 0
}